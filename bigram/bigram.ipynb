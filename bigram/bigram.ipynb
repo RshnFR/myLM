{
 "cells": [
  {
   "cell_type": "code",
   "execution_count": null,
   "metadata": {},
   "outputs": [
    {
     "name": "stdout",
     "output_type": "stream",
     "text": [
      "([[0.16666666666666666, 0.16666666666666666, 0.16666666666666666, 0.16666666666666666, 0.16666666666666666], [0.2857142857142857, 0.14285714285714285, 0.14285714285714285, 0.14285714285714285, 0.2857142857142857], [0.16666666666666666, 0.3333333333333333, 0.16666666666666666, 0.16666666666666666, 0.16666666666666666], [0.16666666666666666, 0.16666666666666666, 0.3333333333333333, 0.16666666666666666, 0.16666666666666666], [0.16666666666666666, 0.16666666666666666, 0.16666666666666666, 0.3333333333333333, 0.16666666666666666]], ['mat', 'the', 'on', 'sat', 'cat'])\n"
     ]
    }
   ],
   "source": [
    "def bigram_train(text):\n",
    "    lst = text.lower().split()\n",
    "    lst = [word for word in lst if word.isalpha()]\n",
    "    bag_of_words = list(set(lst))\n",
    "    matrix = [[1 for i in range(len(bag_of_words))] for j in range(len(bag_of_words))]\n",
    "    for i in range(len(bag_of_words)):\n",
    "        for j in range(len(bag_of_words)):\n",
    "            for k in range(len(lst)-1):\n",
    "                if lst[k] == bag_of_words[i] and lst[k+1] == bag_of_words[j]:\n",
    "                    matrix[i][j] += 1\n",
    "            matrix[i][j] = matrix[i][j] / (lst.count(bag_of_words[i])+len(bag_of_words))\n",
    "    return (matrix,bag_of_words)\n",
    "            \n",
    "\n",
    "    \n",
    "    \n",
    "\n"
   ]
  },
  {
   "cell_type": "code",
   "execution_count": 35,
   "metadata": {},
   "outputs": [],
   "source": [
    "def next_word(word, matrix, bag_of_words):\n",
    "    index = bag_of_words.index(word)\n",
    "    max_prob = 0\n",
    "    next_word = \"\"\n",
    "    for i in range(len(bag_of_words)):\n",
    "        if matrix[index][i] > max_prob:\n",
    "            max_prob = matrix[index][i]\n",
    "            next_word = bag_of_words[i]\n",
    "    return next_word\n"
   ]
  },
  {
   "cell_type": "code",
   "execution_count": 36,
   "metadata": {},
   "outputs": [],
   "source": [
    "# Read the text file\n",
    "from pathlib import Path\n",
    "text_file = Path(\"sample.txt\")\n",
    "text = text_file.read_text()\n"
   ]
  },
  {
   "cell_type": "code",
   "execution_count": 37,
   "metadata": {},
   "outputs": [],
   "source": [
    "matrix , bag_of_words = bigram_train(text)"
   ]
  },
  {
   "cell_type": "code",
   "execution_count": 38,
   "metadata": {},
   "outputs": [
    {
     "name": "stdout",
     "output_type": "stream",
     "text": [
      "that would continue in the most skilled the most skilled the most skilled the most skilled the most skilled the most skilled the most skilled the \n"
     ]
    }
   ],
   "source": [
    "word = \"that\"\n",
    "text = \"\"\n",
    "for i in range(26):\n",
    "    text += word + \" \"\n",
    "    word = next_word(word, matrix, bag_of_words)\n",
    "print(text)"
   ]
  },
  {
   "cell_type": "code",
   "execution_count": null,
   "metadata": {},
   "outputs": [],
   "source": []
  }
 ],
 "metadata": {
  "kernelspec": {
   "display_name": "Python 3",
   "language": "python",
   "name": "python3"
  },
  "language_info": {
   "codemirror_mode": {
    "name": "ipython",
    "version": 3
   },
   "file_extension": ".py",
   "mimetype": "text/x-python",
   "name": "python",
   "nbconvert_exporter": "python",
   "pygments_lexer": "ipython3",
   "version": "3.9.21"
  }
 },
 "nbformat": 4,
 "nbformat_minor": 2
}
