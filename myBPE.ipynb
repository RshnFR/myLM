{
 "cells": [
  {
   "cell_type": "markdown",
   "metadata": {},
   "source": [
    "# Todo : \n",
    "- Convert string to utf8\n",
    "- Do the dicitonnary\n",
    "- encoder / decoder"
   ]
  },
  {
   "cell_type": "code",
   "execution_count": null,
   "metadata": {},
   "outputs": [],
   "source": [
    "def get_stats(ids):\n",
    "    # Return a dictionnary with the number of times each pair of consecutive\n",
    "    counts = {}\n",
    "    for i in zip(ids, ids[1:]):\n",
    "        counts[i] = counts.get(i, 0) + 1\n",
    "    return counts"
   ]
  },
  {
   "cell_type": "code",
   "execution_count": null,
   "metadata": {},
   "outputs": [],
   "source": [
    "def bpe_train(text, n):\n",
    "    # Return a dictionnary of encoded pairs\n",
    "    pairs = []\n",
    "    v = 0\n",
    "    for i in text:\n",
    "        pairs.append(i)\n",
    "        v += 1\n",
    "    text = list(text)\n",
    "    for i in range(n):\n",
    "        stats = get_stats(text)\n",
    "        if not stats:\n",
    "            break\n",
    "        p = max(stats, key=stats.get)\n",
    "        pairs.append(p[0] + p[1])\n",
    "        print(pairs)\n",
    "        #Replace all occurences of the pair p\n",
    "        new_text = []\n",
    "        skip = False\n",
    "        for i in range(len(text)-1):\n",
    "            if skip:\n",
    "                skip = False\n",
    "                continue\n",
    "            if text[i] == p[0] and text[i+1] == p[1]:\n",
    "                new_text.append(p[0] + p[1])\n",
    "                skip = True\n",
    "            else:\n",
    "                new_text.append(text[i])\n",
    "        if not skip:\n",
    "            new_text.append(text[-1])\n",
    "        text = new_text\n",
    "\n",
    "\n",
    "    return pairs\n",
    "\n",
    "\n",
    "        "
   ]
  },
  {
   "cell_type": "code",
   "execution_count": 80,
   "metadata": {},
   "outputs": [
    {
     "name": "stdout",
     "output_type": "stream",
     "text": [
      "['a', 'b', 'r', 'a', 'c', 'a', 'd', 'a', 'b', 'r', 'a', 'ab']\n",
      "['a', 'b', 'r', 'a', 'c', 'a', 'd', 'a', 'b', 'r', 'a', 'ab', 'abr']\n",
      "['a', 'b', 'r', 'a', 'c', 'a', 'd', 'a', 'b', 'r', 'a', 'ab', 'abr', 'abra']\n",
      "['a', 'b', 'r', 'a', 'c', 'a', 'd', 'a', 'b', 'r', 'a', 'ab', 'abr', 'abra']\n"
     ]
    }
   ],
   "source": [
    "text = \"abracadabra\"\n",
    "print(bpe(text, 3))"
   ]
  },
  {
   "cell_type": "code",
   "execution_count": null,
   "metadata": {},
   "outputs": [],
   "source": []
  }
 ],
 "metadata": {
  "kernelspec": {
   "display_name": "Python 3",
   "language": "python",
   "name": "python3"
  },
  "language_info": {
   "codemirror_mode": {
    "name": "ipython",
    "version": 3
   },
   "file_extension": ".py",
   "mimetype": "text/x-python",
   "name": "python",
   "nbconvert_exporter": "python",
   "pygments_lexer": "ipython3",
   "version": "3.9.21"
  }
 },
 "nbformat": 4,
 "nbformat_minor": 2
}
