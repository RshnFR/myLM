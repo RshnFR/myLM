{
 "cells": [
  {
   "cell_type": "code",
   "execution_count": 1,
   "metadata": {},
   "outputs": [
    {
     "name": "stdout",
     "output_type": "stream",
     "text": [
      "['M', 'y', ' ', 'n', 'a', 'm', 'e', ' ', 'i', 's', ' ', 'R', 'o', 's', 'h', 'a', 'n', '.', ' ', 'I', ' ', 'a', 'm', ' ', 'r', 'e', 'a', 'l', 'l', 'y', ' ', 'h', 'a', 'p', 'p', 'y', ' ', 't', 'o', ' ', 'h', 'a', 'v', 'e', ' ', 't', 'h', 'i', 's', ' ', 'p', 'r', 'o', 'j', 'e', 'c', 't', 'y ', 'ha', 'am', 'e ', 'is', 'is ', 'My ', 'My n', 'My nam', 'My name ']\n"
     ]
    }
   ],
   "source": [
    "import os\n",
    "import sys\n",
    "\n",
    "current_dir = os.getcwd()\n",
    "module_path = os.path.abspath(os.path.join(current_dir, '.', 'tokenizer'))\n",
    "sys.path.append(module_path)\n",
    "\n",
    "from tokenizer import BPETokenizer\n",
    "bpe = BPETokenizer()\n",
    "bpe.bpe_train(\"My name is Roshan. I am really happy to have this project\", 10)\n",
    "print(bpe.vocab)"
   ]
  },
  {
   "cell_type": "code",
   "execution_count": null,
   "metadata": {},
   "outputs": [],
   "source": [
    "from datasets import load_dataset\n",
    "\n",
    "ds = load_dataset(\"stanfordnlp/sst2\")"
   ]
  }
 ],
 "metadata": {
  "kernelspec": {
   "display_name": "Python 3",
   "language": "python",
   "name": "python3"
  },
  "language_info": {
   "codemirror_mode": {
    "name": "ipython",
    "version": 3
   },
   "file_extension": ".py",
   "mimetype": "text/x-python",
   "name": "python",
   "nbconvert_exporter": "python",
   "pygments_lexer": "ipython3",
   "version": "3.9.21"
  }
 },
 "nbformat": 4,
 "nbformat_minor": 2
}
