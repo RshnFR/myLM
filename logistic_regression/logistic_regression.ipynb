{
 "cells": [
  {
   "cell_type": "code",
   "execution_count": null,
   "metadata": {},
   "outputs": [],
   "source": [
    "from sklearn.model_selection import train_test_split\n",
    "import numpy as np\n",
    "def logistic_regression(texts, labels):\n",
    "    X_train, X_test, y_train, y_test = train_test_split(texts, labels, test_size=0.2, random_state=42)\n",
    "    w = np.zeros((len(X_train[0]), 1))\n",
    "    b = 0\n",
    "    learning_rate = 0.01\n",
    "    epochs = 1000\n",
    "    for epoch in range(epochs):\n",
    "        for i in range(len(X_train)):\n",
    "            xi = X_train[i].reshape(-1, 1)\n",
    "            yi = y_train[i]\n",
    "            z = np.dot(w.T, xi) + b\n",
    "            a = 1 / (1 + np.exp(-z))\n",
    "            dw = (a - yi) * xi\n",
    "            db = (a - yi)\n",
    "            w -= learning_rate * dw\n",
    "            b -= learning_rate * db\n",
    "    correct = 0\n",
    "    for i in range(len(X_test)):\n",
    "        xi = X_test[i].reshape(-1, 1)\n",
    "        z = np.dot(w.T, xi) + b\n",
    "        a = 1 / (1 + np.exp(-z))\n",
    "        if a >= 0.5:\n",
    "            prediction = 1\n",
    "        else:\n",
    "            prediction = 0\n",
    "        if prediction == y_test[i]:\n",
    "            correct += 1\n",
    "    accuracy = correct / len(X_test)\n",
    "    print(f\"Accuracy: {accuracy * 100:.2f}%\")\n",
    "    return w, b"
   ]
  },
  {
   "cell_type": "code",
   "execution_count": 34,
   "metadata": {},
   "outputs": [
    {
     "name": "stdout",
     "output_type": "stream",
     "text": [
      "['a', 'b', 'c', 'd', 'e', 'f', 'g', 'h', 'i', 'j', 'k', 'l', 'm', 'n', 'o', 'p', 'q', 'r', 's', 't', 'u', 'v', 'w', 'x', 'y', 'z', ' ', '.', ',', '?', '!', ':', ';', '-', '_', '+', '=', '(', ')', '{', '}', '[', ']', '<', '>', '/', '\\\\', 'B', 'M', ' M', ' Ma', ' B', ' Mau', ' Mauv', ' Mauva', ' Mauvai', ' Mauvais', 'on', ' Bi', ' Bie', ' Bien', ' Mal', ' Bon', 'Bon', 'Bon Bien', 'Bon Bien Mal', 'Bon Bien Mal Mauvais', 'Bon Bien Mal Mauvais Mauvais', 'Bon Bien Mal Mauvais Mauvais Mal', 'Bon Bien Mal Mauvais Mauvais Mal Bien', 'Bon Bien Mal Mauvais Mauvais Mal Bien Bon', 'Bon Bien Mal Mauvais Mauvais Mal Bien Bon Mal', 'Bon Bien Mal Mauvais Mauvais Mal Bien Bon Mal Bon', 'Bon Bien Mal Mauvais Mauvais Mal Bien Bon Mal Bon Mauvais', 'Bon Bien Mal Mauvais Mauvais Mal Bien Bon Mal Bon Mauvais Bien', 'Bon Bien Mal Mauvais Mauvais Mal Bien Bon Mal Bon Mauvais Bien ', 'Bon Bien Mal Mauvais Mauvais Mal Bien Bon Mal Bon Mauvais Bien t', 'Bon Bien Mal Mauvais Mauvais Mal Bien Bon Mal Bon Mauvais Bien te', 'Bon Bien Mal Mauvais Mauvais Mal Bien Bon Mal Bon Mauvais Bien tes']\n"
     ]
    }
   ],
   "source": [
    "import os\n",
    "import sys\n",
    "\n",
    "current_dir = os.getcwd()\n",
    "module_path = os.path.abspath(os.path.join(current_dir, '..', 'tokenizer'))\n",
    "sys.path.append(module_path)\n",
    "\n",
    "from tokenizer import BPETokenizer\n",
    "bpe = BPETokenizer()\n",
    "bpe.bpe_train(\"Bon Bien Mal Mauvais Mauvais Mal Bien Bon Mal Bon Mauvais Bien test Mauvais\", 30)\n",
    "data = [\n",
    "    \"Bon\",\n",
    "    \" Bien\",\n",
    "    \" Mal\",\n",
    "    \" Mauvais\"\n",
    "]\n",
    "for i in range(len(data)):\n",
    "    data[i] = bpe.encode(data[i])\n",
    "print(bpe.vocab)"
   ]
  },
  {
   "cell_type": "code",
   "execution_count": 35,
   "metadata": {},
   "outputs": [
    {
     "name": "stdout",
     "output_type": "stream",
     "text": [
      "[[63]\n",
      " [60]\n",
      " [61]\n",
      " [56]]\n"
     ]
    }
   ],
   "source": [
    "data = np.array([i for i in data])\n",
    "print(data)\n",
    "labels = np.array([1, 1, 0, 0])"
   ]
  },
  {
   "cell_type": "code",
   "execution_count": 36,
   "metadata": {},
   "outputs": [
    {
     "name": "stdout",
     "output_type": "stream",
     "text": [
      "Accuracy: 0.00%\n"
     ]
    }
   ],
   "source": [
    "w , b = logistic_regression(data, labels)"
   ]
  },
  {
   "cell_type": "code",
   "execution_count": null,
   "metadata": {},
   "outputs": [],
   "source": []
  }
 ],
 "metadata": {
  "kernelspec": {
   "display_name": ".venv",
   "language": "python",
   "name": "python3"
  },
  "language_info": {
   "codemirror_mode": {
    "name": "ipython",
    "version": 3
   },
   "file_extension": ".py",
   "mimetype": "text/x-python",
   "name": "python",
   "nbconvert_exporter": "python",
   "pygments_lexer": "ipython3",
   "version": "3.12.4"
  }
 },
 "nbformat": 4,
 "nbformat_minor": 2
}
