{
 "cells": [
  {
   "cell_type": "code",
   "execution_count": 16,
   "metadata": {},
   "outputs": [],
   "source": [
    "import os\n",
    "import sys\n",
    "\n",
    "current_dir = os.getcwd()\n",
    "module_path = os.path.abspath(os.path.join(current_dir, '..', 'tokenizer'))\n",
    "sys.path.append(module_path)\n",
    "\n",
    "from tokenizerv2 import TokenizerV2\n"
   ]
  },
  {
   "cell_type": "code",
   "execution_count": null,
   "metadata": {},
   "outputs": [],
   "source": [
    "import numpy as np\n",
    "# Load train / test numpy arrays\n",
    "\n",
    "train_data = os.path.join(current_dir, '../data', 'tf_idf_train.npy')\n",
    "test_data = os.path.join(current_dir, '../data', 'tf_idf_test.npy')\n",
    "\n",
    "from datasets import load_dataset\n",
    "\n",
    "train_data = np.load(train_data)\n",
    "test_data = np.load(test_data)\n",
    "\n",
    "# Fully labeled dataset\n",
    "ds = load_dataset(\"stanfordnlp/imdb\")\n",
    "\n",
    "# Load labels\n",
    "\n",
    "train_labels = np.array(ds['train']['label'])\n",
    "test_labels = np.array(ds['test']['label'])"
   ]
  },
  {
   "cell_type": "code",
   "execution_count": 33,
   "metadata": {},
   "outputs": [],
   "source": [
    "import numpy as np\n",
    "def sigmoid(x):\n",
    "    return 1 / (1 + np.exp(-x))\n",
    "\n",
    "def initialisation(dim):\n",
    "    w = np.zeros(dim, dtype=np.float32)\n",
    "    b = 0.0\n",
    "    return w, b"
   ]
  },
  {
   "cell_type": "code",
   "execution_count": 38,
   "metadata": {},
   "outputs": [],
   "source": [
    "def logistic_regression(X, y, iterations=2000, learning_rate=0.1):\n",
    "    m, num_features = X.shape\n",
    "    y = y.reshape(m)\n",
    "    w, b = initialisation(num_features)\n",
    "    costs = []\n",
    "    accuracies = []\n",
    "    epsilon = 1e-15\n",
    "    for i in range(iterations):\n",
    "        z = np.dot(X, w) + b\n",
    "        a = sigmoid(z)\n",
    "        cost = (-1 / m) * np.sum(y * np.log(a + epsilon) + (1 - y) * np.log(1 - a + epsilon))\n",
    "        cost = np.squeeze(cost)\n",
    "        dw = (1 / m) * np.dot(X.T, (a - y))\n",
    "        db = (1 / m) * np.sum(a - y)\n",
    "        w -= learning_rate * dw\n",
    "        b -= learning_rate * db\n",
    "        if i % 100 == 0 or i == iterations - 1:\n",
    "            predictions = (a >= 0.5).astype(int) # Convertir probabilités en classes 0/1\n",
    "            accuracy = np.mean(predictions == y) # Comparer aux vraies étiquettes Y\n",
    "\n",
    "            costs.append(cost)\n",
    "            accuracies.append(accuracy) # Enregistrer l'accuracy\n",
    "\n",
    "            print(f\"Iteration {i}: Cost {cost:.6f} - Training Accuracy: {accuracy * 100:.2f}%\")\n",
    "    params = {\n",
    "        'w': w,\n",
    "        'b': b\n",
    "    }\n",
    "    history = {\n",
    "        'costs': costs,\n",
    "        'accuracies': accuracies\n",
    "    }\n",
    "    return params, history"
   ]
  },
  {
   "cell_type": "code",
   "execution_count": null,
   "metadata": {},
   "outputs": [
    {
     "name": "stdout",
     "output_type": "stream",
     "text": [
      "Iteration 0: Cost 0.693147 - Training Accuracy: 50.00%\n",
      "Iteration 100: Cost 0.688271 - Training Accuracy: 75.19%\n",
      "Iteration 200: Cost 0.683544 - Training Accuracy: 75.31%\n",
      "Iteration 300: Cost 0.678960 - Training Accuracy: 75.39%\n",
      "Iteration 400: Cost 0.674512 - Training Accuracy: 75.56%\n",
      "Iteration 500: Cost 0.670195 - Training Accuracy: 75.66%\n",
      "Iteration 600: Cost 0.666002 - Training Accuracy: 75.73%\n",
      "Iteration 700: Cost 0.661930 - Training Accuracy: 75.78%\n",
      "Iteration 800: Cost 0.657972 - Training Accuracy: 75.88%\n",
      "Iteration 900: Cost 0.654125 - Training Accuracy: 75.96%\n"
     ]
    }
   ],
   "source": [
    "params, costs = logistic_regression(train_data, train_labels, iterations=2000, learning_rate=0.1)"
   ]
  },
  {
   "cell_type": "code",
   "execution_count": 41,
   "metadata": {},
   "outputs": [
    {
     "name": "stdout",
     "output_type": "stream",
     "text": [
      "Test Accuracy: 74.50%\n"
     ]
    }
   ],
   "source": [
    "def logistic_regression_predict(X, params):\n",
    "    w = params['w']\n",
    "    b = params['b']\n",
    "    z = np.dot(X, w) + b\n",
    "    a = sigmoid(z)\n",
    "    predictions = (a >= 0.5).astype(int)\n",
    "    accuracy = np.mean(predictions == test_labels)\n",
    "    print(f\"Test Accuracy: {accuracy * 100:.2f}%\")\n",
    "    return predictions, accuracy\n",
    "predictions, accuracy = logistic_regression_predict(test_data, params)\n"
   ]
  },
  {
   "cell_type": "code",
   "execution_count": null,
   "metadata": {},
   "outputs": [],
   "source": []
  }
 ],
 "metadata": {
  "kernelspec": {
   "display_name": ".venv",
   "language": "python",
   "name": "python3"
  },
  "language_info": {
   "codemirror_mode": {
    "name": "ipython",
    "version": 3
   },
   "file_extension": ".py",
   "mimetype": "text/x-python",
   "name": "python",
   "nbconvert_exporter": "python",
   "pygments_lexer": "ipython3",
   "version": "3.12.4"
  }
 },
 "nbformat": 4,
 "nbformat_minor": 2
}
