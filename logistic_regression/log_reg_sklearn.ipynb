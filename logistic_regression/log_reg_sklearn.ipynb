{
 "cells": [
  {
   "cell_type": "code",
   "execution_count": null,
   "metadata": {},
   "outputs": [],
   "source": [
    "from sklearn.linear_model import LogisticRegression       \n",
    "from datasets import load_dataset       \n",
    "from sklearn.feature_extraction.text import TfidfVectorizer\n",
    "ds = load_dataset(\"stanfordnlp/sst2\")\n",
    "train_ds = ds[\"train\"]\n",
    "vectorizer = TfidfVectorizer()\n",
    "vectorizer.fit(train_ds[\"sentence\"])\n",
    "X_train = vectorizer.transform(train_ds[\"sentence\"])\n",
    "y_train = train_ds[\"label\"]\n",
    "model = LogisticRegression()\n",
    "model.fit(X_train, y_train)\n",
    "test_ds = ds[\"test\"]\n",
    "\n",
    "X_test = vectorizer.transform(test_ds[\"sentence\"])\n",
    "y_test = test_ds[\"label\"]\n",
    "y_pred = model.predict(X_test)\n",
    "from sklearn.metrics import accuracy_score\n",
    "accuracy = accuracy_score(y_test, y_pred)\n"
   ]
  },
  {
   "cell_type": "code",
   "execution_count": 14,
   "metadata": {},
   "outputs": [
    {
     "name": "stdout",
     "output_type": "stream",
     "text": [
      "Accuracy: 0.0000\n"
     ]
    }
   ],
   "source": [
    "print(f\"Accuracy: {accuracy:.4f}\")"
   ]
  },
  {
   "cell_type": "code",
   "execution_count": null,
   "metadata": {},
   "outputs": [],
   "source": []
  }
 ],
 "metadata": {
  "kernelspec": {
   "display_name": ".venv",
   "language": "python",
   "name": "python3"
  },
  "language_info": {
   "codemirror_mode": {
    "name": "ipython",
    "version": 3
   },
   "file_extension": ".py",
   "mimetype": "text/x-python",
   "name": "python",
   "nbconvert_exporter": "python",
   "pygments_lexer": "ipython3",
   "version": "3.12.4"
  }
 },
 "nbformat": 4,
 "nbformat_minor": 2
}
